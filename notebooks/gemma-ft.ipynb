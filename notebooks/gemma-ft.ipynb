{
 "cells": [
  {
   "cell_type": "code",
   "execution_count": 4,
   "id": "99286349-ee09-44f5-8994-c2461ccdcef9",
   "metadata": {},
   "outputs": [],
   "source": [
    "#!pip install tf-keras -q"
   ]
  },
  {
   "cell_type": "code",
   "execution_count": 3,
   "id": "82ca8846-a606-495f-82bd-64bfad7d8c7d",
   "metadata": {},
   "outputs": [
    {
     "name": "stdout",
     "output_type": "stream",
     "text": [
      "\u001b[33mWARNING: Running pip as the 'root' user can result in broken permissions and conflicting behaviour with the system package manager, possibly rendering your system unusable.It is recommended to use a virtual environment instead: https://pip.pypa.io/warnings/venv. Use the --root-user-action option if you know what you are doing and want to suppress this warning.\u001b[0m\u001b[33m\n",
      "\u001b[0m\n",
      "\u001b[1m[\u001b[0m\u001b[34;49mnotice\u001b[0m\u001b[1;39;49m]\u001b[0m\u001b[39;49m A new release of pip is available: \u001b[0m\u001b[31;49m24.1.1\u001b[0m\u001b[39;49m -> \u001b[0m\u001b[32;49m24.2\u001b[0m\n",
      "\u001b[1m[\u001b[0m\u001b[34;49mnotice\u001b[0m\u001b[1;39;49m]\u001b[0m\u001b[39;49m To update, run: \u001b[0m\u001b[32;49mpython3 -m pip install --upgrade pip\u001b[0m\n"
     ]
    }
   ],
   "source": [
    "!pip install peft datasets transformers trl accelerate bitsandbytes -q"
   ]
  },
  {
   "cell_type": "code",
   "execution_count": 2,
   "id": "86cec955-d1c2-482e-807c-df5fc550b75b",
   "metadata": {},
   "outputs": [
    {
     "name": "stdout",
     "output_type": "stream",
     "text": [
      "Sun Aug 11 04:57:06 2024       \n",
      "+-----------------------------------------------------------------------------------------+\n",
      "| NVIDIA-SMI 555.52.04              Driver Version: 555.52.04      CUDA Version: 12.5     |\n",
      "|-----------------------------------------+------------------------+----------------------+\n",
      "| GPU  Name                 Persistence-M | Bus-Id          Disp.A | Volatile Uncorr. ECC |\n",
      "| Fan  Temp   Perf          Pwr:Usage/Cap |           Memory-Usage | GPU-Util  Compute M. |\n",
      "|                                         |                        |               MIG M. |\n",
      "|=========================================+========================+======================|\n",
      "|   0  NVIDIA GeForce RTX 2080 Ti     Off |   00000000:1A:00.0 Off |                  N/A |\n",
      "| 29%   24C    P8              1W /  250W |       1MiB /  11264MiB |      0%      Default |\n",
      "|                                         |                        |                  N/A |\n",
      "+-----------------------------------------+------------------------+----------------------+\n",
      "                                                                                         \n",
      "+-----------------------------------------------------------------------------------------+\n",
      "| Processes:                                                                              |\n",
      "|  GPU   GI   CI        PID   Type   Process name                              GPU Memory |\n",
      "|        ID   ID                                                               Usage      |\n",
      "|=========================================================================================|\n",
      "|  No running processes found                                                             |\n",
      "+-----------------------------------------------------------------------------------------+\n"
     ]
    }
   ],
   "source": [
    "!nvidia-smi"
   ]
  },
  {
   "cell_type": "code",
   "execution_count": 4,
   "id": "c34faee0-bc11-4882-af0e-0a90a36da2f9",
   "metadata": {},
   "outputs": [
    {
     "name": "stderr",
     "output_type": "stream",
     "text": [
      "/usr/local/lib/python3.11/dist-packages/tqdm/auto.py:21: TqdmWarning: IProgress not found. Please update jupyter and ipywidgets. See https://ipywidgets.readthedocs.io/en/stable/user_install.html\n",
      "  from .autonotebook import tqdm as notebook_tqdm\n",
      "2024-08-11 04:57:32.951639: E external/local_xla/xla/stream_executor/cuda/cuda_fft.cc:485] Unable to register cuFFT factory: Attempting to register factory for plugin cuFFT when one has already been registered\n",
      "2024-08-11 04:57:32.971734: E external/local_xla/xla/stream_executor/cuda/cuda_dnn.cc:8454] Unable to register cuDNN factory: Attempting to register factory for plugin cuDNN when one has already been registered\n",
      "2024-08-11 04:57:32.977696: E external/local_xla/xla/stream_executor/cuda/cuda_blas.cc:1452] Unable to register cuBLAS factory: Attempting to register factory for plugin cuBLAS when one has already been registered\n",
      "2024-08-11 04:57:32.993656: I tensorflow/core/platform/cpu_feature_guard.cc:210] This TensorFlow binary is optimized to use available CPU instructions in performance-critical operations.\n",
      "To enable the following instructions: AVX2 AVX512F FMA, in other operations, rebuild TensorFlow with the appropriate compiler flags.\n"
     ]
    }
   ],
   "source": [
    "import torch\n",
    "import json\n",
    "from transformers import AutoModelForCausalLM, AutoTokenizer, BitsAndBytesConfig, TrainingArguments\n",
    "from peft import LoraConfig, PeftModelForCausalLM\n",
    "from trl import SFTTrainer\n",
    "from datasets import Dataset\n",
    "from huggingface_hub import notebook_login, login\n",
    "import pandas as pd\n",
    "from tqdm import tqdm\n",
    "import re"
   ]
  },
  {
   "cell_type": "code",
   "execution_count": 6,
   "id": "6c00d490-3c9d-4d26-a415-a4f225067e4c",
   "metadata": {},
   "outputs": [],
   "source": [
    "save_path = \"./jssp/data/\"\n",
    "dataset_train_name = 'Schedule_Data_Train'\n",
    "dataset_val_name = 'Schedule_Data_Val'\n",
    "file_name_train_chatml = f\"{dataset_train_name}_chatml.json\"\n",
    "file_name_val_chatml = f\"{dataset_val_name}_chatml.json\"\n",
    "\n",
    "\n",
    "with open(save_path + file_name_train_chatml, 'r') as f:\n",
    "  dataset_train = Dataset.from_dict(json.load(f))\n",
    "\n",
    "with open(save_path + file_name_val_chatml, 'r') as f:\n",
    "  dataset_val = Dataset.from_dict(json.load(f))\n"
   ]
  },
  {
   "cell_type": "code",
   "execution_count": 7,
   "id": "7ce05ffc-f2a1-478c-a764-a92637dc0ecc",
   "metadata": {},
   "outputs": [
    {
     "name": "stdout",
     "output_type": "stream",
     "text": [
      "The token has not been saved to the git credentials helper. Pass `add_to_git_credential=True` in this function directly or `--add-to-git-credential` if using via `huggingface-cli` if you want to set the git credential as well.\n",
      "Token is valid (permission: fineGrained).\n",
      "Your token has been saved to /root/.cache/huggingface/token\n",
      "Login successful\n"
     ]
    }
   ],
   "source": [
    "from huggingface_hub import login\n",
    "login(token = \"...\") # add huggingface token for your account"
   ]
  },
  {
   "cell_type": "code",
   "execution_count": 8,
   "id": "a91edb47-8fb7-4a29-b84f-7df96e7b3a26",
   "metadata": {},
   "outputs": [],
   "source": [
    "bnb_config = BitsAndBytesConfig(\n",
    "  load_in_4bit=True,\n",
    "  bnb_4bit_quant_type=\"nf4\",\n",
    "  bnb_4bit_compute_dtype=torch.float16,\n",
    ")"
   ]
  },
  {
   "cell_type": "code",
   "execution_count": 9,
   "id": "de01541e-3eba-438d-a880-eaffa1a85d24",
   "metadata": {},
   "outputs": [],
   "source": [
    "tokenizer = AutoTokenizer.from_pretrained(\"google/gemma-2b-it\")\n",
    "tokenizer.padding_side = 'right'"
   ]
  },
  {
   "cell_type": "code",
   "execution_count": 10,
   "id": "f4fe7f7e-7c0b-4a9d-adfe-552fa5561325",
   "metadata": {},
   "outputs": [
    {
     "name": "stderr",
     "output_type": "stream",
     "text": [
      "`config.hidden_act` is ignored, you should use `config.hidden_activation` instead.\n",
      "Gemma's activation function will be set to `gelu_pytorch_tanh`. Please, use\n",
      "`config.hidden_activation` if you want to override this behaviour.\n",
      "See https://github.com/huggingface/transformers/pull/29402 for more details.\n",
      "Loading checkpoint shards: 100%|██████████| 2/2 [00:07<00:00,  3.92s/it]\n"
     ]
    }
   ],
   "source": [
    "model = AutoModelForCausalLM.from_pretrained(\n",
    "    \"google/gemma-2b-it\",\n",
    "    device_map=\"auto\",\n",
    "    quantization_config=bnb_config\n",
    ")"
   ]
  },
  {
   "cell_type": "code",
   "execution_count": 11,
   "id": "ae2de4c5-cf01-497f-a93a-8cd0e1aa3191",
   "metadata": {},
   "outputs": [],
   "source": [
    "peft_config = LoraConfig(\n",
    "    lora_alpha = 32,\n",
    "    lora_dropout=0.5,\n",
    "    r=16,\n",
    "    task_type='CAUSAL_LM'\n",
    ")"
   ]
  },
  {
   "cell_type": "code",
   "execution_count": 15,
   "id": "84dfa63f-6667-4124-8ad9-2f796da24598",
   "metadata": {},
   "outputs": [],
   "source": [
    "training_run = \"./training/\"\n",
    "training_arguments = TrainingArguments(\n",
    "    output_dir = training_run,\n",
    "    eval_strategy=\"steps\",\n",
    "    logging_strategy=\"steps\",\n",
    "    lr_scheduler_type=\"constant\",\n",
    "    logging_steps=10,\n",
    "    eval_steps=10,\n",
    "    save_steps=10,\n",
    "    per_device_train_batch_size=8,\n",
    "    per_device_eval_batch_size=8,\n",
    "    gradient_accumulation_steps=16,\n",
    "    eval_accumulation_steps=16,\n",
    "    num_train_epochs=4,\n",
    "    fp16=True,\n",
    "    group_by_length = True,\n",
    "    optim=\"paged_adamw_32bit\",\n",
    "    max_steps = 90\n",
    ")"
   ]
  },
  {
   "cell_type": "code",
   "execution_count": 16,
   "id": "945395ba-948b-40f6-9a77-3c98ecbe10c9",
   "metadata": {},
   "outputs": [
    {
     "name": "stderr",
     "output_type": "stream",
     "text": [
      "/usr/local/lib/python3.11/dist-packages/huggingface_hub/utils/_deprecation.py:100: FutureWarning: Deprecated argument(s) used in '__init__': neftune_noise_alpha, max_seq_length. Will not be supported from version '1.0.0'.\n",
      "\n",
      "Deprecated positional argument(s) used in SFTTrainer, please use the SFTConfig to set these arguments instead.\n",
      "  warnings.warn(message, FutureWarning)\n",
      "/usr/local/lib/python3.11/dist-packages/trl/trainer/sft_trainer.py:280: UserWarning: You passed a `max_seq_length` argument to the SFTTrainer, the value you passed will override the one in the `SFTConfig`.\n",
      "  warnings.warn(\n",
      "/usr/local/lib/python3.11/dist-packages/trl/trainer/sft_trainer.py:310: UserWarning: You passed a `neftune_noise_alpha` argument to the SFTTrainer, the value you passed will override the one in the `SFTConfig`.\n",
      "  warnings.warn(\n",
      "/usr/local/lib/python3.11/dist-packages/trl/trainer/sft_trainer.py:366: UserWarning: You passed a `dataset_kwargs` argument to the SFTTrainer, the value you passed will override the one in the `SFTConfig`.\n",
      "  warnings.warn(\n",
      "Map: 100%|██████████| 1/1 [00:00<00:00,  7.54 examples/s]\n",
      "Map: 100%|██████████| 1/1 [00:00<00:00, 50.56 examples/s]\n",
      "/usr/local/lib/python3.11/dist-packages/accelerate/accelerator.py:488: FutureWarning: `torch.cuda.amp.GradScaler(args...)` is deprecated. Please use `torch.amp.GradScaler('cuda', args...)` instead.\n",
      "  self.scaler = torch.cuda.amp.GradScaler(**kwargs)\n",
      "max_steps is given, it will override any value given in num_train_epochs\n"
     ]
    }
   ],
   "source": [
    "trainer = SFTTrainer(\n",
    "    model,\n",
    "    tokenizer=tokenizer,\n",
    "    train_dataset=dataset_train,\n",
    "    eval_dataset=dataset_val,\n",
    "    peft_config=peft_config,\n",
    "    neftune_noise_alpha=5,\n",
    "    max_seq_length=500,\n",
    "    args = training_arguments\n",
    ")"
   ]
  },
  {
   "cell_type": "code",
   "execution_count": 17,
   "id": "ea4b72c8-c35b-4971-acf9-c482bab25f13",
   "metadata": {},
   "outputs": [
    {
     "data": {
      "text/html": [
       "\n",
       "    <div>\n",
       "      \n",
       "      <progress value='90' max='90' style='width:300px; height:20px; vertical-align: middle;'></progress>\n",
       "      [90/90 00:35, Epoch 90/90]\n",
       "    </div>\n",
       "    <table border=\"1\" class=\"dataframe\">\n",
       "  <thead>\n",
       " <tr style=\"text-align: left;\">\n",
       "      <th>Step</th>\n",
       "      <th>Training Loss</th>\n",
       "      <th>Validation Loss</th>\n",
       "    </tr>\n",
       "  </thead>\n",
       "  <tbody>\n",
       "    <tr>\n",
       "      <td>10</td>\n",
       "      <td>0.161200</td>\n",
       "      <td>2.301210</td>\n",
       "    </tr>\n",
       "    <tr>\n",
       "      <td>20</td>\n",
       "      <td>0.138700</td>\n",
       "      <td>2.022703</td>\n",
       "    </tr>\n",
       "    <tr>\n",
       "      <td>30</td>\n",
       "      <td>0.115200</td>\n",
       "      <td>1.763633</td>\n",
       "    </tr>\n",
       "    <tr>\n",
       "      <td>40</td>\n",
       "      <td>0.098400</td>\n",
       "      <td>1.591062</td>\n",
       "    </tr>\n",
       "    <tr>\n",
       "      <td>50</td>\n",
       "      <td>0.085500</td>\n",
       "      <td>1.466854</td>\n",
       "    </tr>\n",
       "    <tr>\n",
       "      <td>60</td>\n",
       "      <td>0.072700</td>\n",
       "      <td>1.365783</td>\n",
       "    </tr>\n",
       "    <tr>\n",
       "      <td>70</td>\n",
       "      <td>0.058800</td>\n",
       "      <td>1.272545</td>\n",
       "    </tr>\n",
       "    <tr>\n",
       "      <td>80</td>\n",
       "      <td>0.043100</td>\n",
       "      <td>1.237641</td>\n",
       "    </tr>\n",
       "    <tr>\n",
       "      <td>90</td>\n",
       "      <td>0.027400</td>\n",
       "      <td>1.246087</td>\n",
       "    </tr>\n",
       "  </tbody>\n",
       "</table><p>"
      ],
      "text/plain": [
       "<IPython.core.display.HTML object>"
      ]
     },
     "metadata": {},
     "output_type": "display_data"
    }
   ],
   "source": [
    "train_history = trainer.train()"
   ]
  },
  {
   "cell_type": "code",
   "execution_count": 19,
   "id": "dd943c2a-72b1-4500-aa92-1d65dd50fc3e",
   "metadata": {},
   "outputs": [
    {
     "name": "stdout",
     "output_type": "stream",
     "text": [
      "TrainOutput(global_step=90, training_loss=0.08899921145704058, metrics={'train_runtime': 35.4784, 'train_samples_per_second': 324.705, 'train_steps_per_second': 2.537, 'total_flos': 535606456320000.0, 'train_loss': 0.08899921145704058, 'epoch': 90.0})\n"
     ]
    }
   ],
   "source": [
    "print(train_history)"
   ]
  },
  {
   "cell_type": "code",
   "execution_count": 20,
   "id": "058be6a3-6709-4d07-8659-8272dcac8ea2",
   "metadata": {},
   "outputs": [],
   "source": [
    "model_gemma_2b_it_ft_path = \"./jssp/model_gemma_2b_it/\"\n",
    "trainer.model.save_pretrained(model_gemma_2b_it_ft_path)"
   ]
  },
  {
   "cell_type": "code",
   "execution_count": 21,
   "id": "d309567d-1233-4800-8e38-fbd4489feecc",
   "metadata": {},
   "outputs": [],
   "source": [
    "gemma_2b_ft = PeftModelForCausalLM.from_pretrained(model=model, model_id=model_gemma_2b_it_ft_path)"
   ]
  },
  {
   "cell_type": "code",
   "execution_count": 17,
   "id": "bb8cdf60-4551-4f6c-b200-c0ce91b0606e",
   "metadata": {},
   "outputs": [],
   "source": [
    "\"\"\"\n",
    "def extract_python_code(markdown_text):\n",
    "    # Regular expression pattern for a Python code block in Markdown\n",
    "    # This pattern looks for both ```python and ``` followed by the code block\n",
    "    pattern = r'```(?:python)?\\s*(.*?)```'\n",
    "\n",
    "    # Use re.DOTALL to match across multiple lines\n",
    "    matches = re.findall(pattern, markdown_text, re.DOTALL)\n",
    "\n",
    "    # If code blocks are found, join them; otherwise, return the entire text assuming it's Python code\n",
    "    if matches:\n",
    "        # Join matches in case there are multiple code blocks\n",
    "        python_code = '\\n\\n'.join(matches)\n",
    "    else:\n",
    "        # If no markdown code blocks are detected, assume the entire text is Python code\n",
    "        python_code = markdown_text\n",
    "\n",
    "    return python_code\n",
    "\"\"\""
   ]
  },
  {
   "cell_type": "code",
   "execution_count": 26,
   "id": "8d932140-e33e-4b90-8551-af2625ea3a44",
   "metadata": {},
   "outputs": [],
   "source": [
    "import re  \n",
    "  \n",
    "def extract_python_code(markdown_text):  \n",
    "    # Regular expression pattern for a Python code block in Markdown  \n",
    "    # This pattern looks for both ```python and ``` followed by the code block  \n",
    "    pattern = r'```(?:python)?\\s*(.*?)\\s*```'  \n",
    "      \n",
    "    # Use re.DOTALL to match across multiple lines  \n",
    "    matches = re.findall(pattern, markdown_text, re.DOTALL)  \n",
    "      \n",
    "    # If code blocks are found, join them; otherwise, return the entire text assuming it's Python code  \n",
    "    if matches:  \n",
    "        # Join matches in case there are multiple code blocks  \n",
    "        python_code = '\\n\\n'.join(matches)  \n",
    "    else:  \n",
    "        # If no markdown code blocks are detected, assume the entire text is Python code  \n",
    "        python_code = markdown_text  \n",
    "      \n",
    "    # Split the text by <eos> and take the first part  \n",
    "    python_code = python_code.split('<eos>')[0]  \n",
    "      \n",
    "    return python_code  \n"
   ]
  },
  {
   "cell_type": "code",
   "execution_count": 27,
   "id": "1a87847b-b8f9-4634-aa4e-e49851169522",
   "metadata": {},
   "outputs": [
    {
     "name": "stderr",
     "output_type": "stream",
     "text": [
      "Processing: 100%|██████████| 20/20 [07:05<00:00, 21.26s/iteration]\n"
     ]
    }
   ],
   "source": [
    "data_test = pd.read_csv(\"./jssp/data/results_analysis6.csv\")\n",
    "\n",
    "# Add a new column to the DataFrame for storing responses\n",
    "data_test['pf_gemma_2b_ft'] = None\n",
    "\n",
    "# Define the number of iterations in your loop\n",
    "total_iterations = len(data_test)\n",
    "\n",
    "# Use tqdm to create a progress bar\n",
    "progress_bar4 = tqdm(total=total_iterations, desc='Processing', unit='iteration')\n",
    "\n",
    "\n",
    "for index, row in data_test.iterrows():\n",
    "    prob_desc = row[\"Description\"]\n",
    "    messages=[\n",
    "    {\n",
    "        'role':'user',\n",
    "        'content':prob_desc,\n",
    "    }\n",
    "    ]\n",
    "    input_ids = tokenizer.apply_chat_template(messages, add_generation_prompt=True, tokenize=True, return_tensors=\"pt\")\n",
    "    input_ids = input_ids.to('cuda')\n",
    "    model_output = gemma_2b_ft.generate(input_ids=input_ids, max_new_tokens=2048, do_sample=False)\n",
    "    response = tokenizer.decode(model_output[0]).split('<start_of_turn>model\\n')[-1]\n",
    "    prob_form = extract_python_code(response)\n",
    "    data_test.at[index, 'pf_gemma_2b_ft'] = prob_form\n",
    "    progress_bar4.update(1)\n",
    "\n",
    "progress_bar4.close()"
   ]
  },
  {
   "cell_type": "code",
   "execution_count": 28,
   "id": "803ed9d2-1758-4b54-8a3a-aec0a99f192d",
   "metadata": {},
   "outputs": [],
   "source": [
    "# write the updated DataFrame to a new CSV file\n",
    "data_test.to_csv(\"./jssp/data/results_analysis6.csv\", index=False)"
   ]
  },
  {
   "cell_type": "code",
   "execution_count": 30,
   "id": "06651187-9575-4961-8c02-75b62ef57072",
   "metadata": {
    "scrolled": true
   },
   "outputs": [
    {
     "data": {
      "image/png": "[encoded data removed]",
      "text/plain": [
       "<Figure size 500x300 with 1 Axes>"
      ]
     },
     "metadata": {},
     "output_type": "display_data"
    }
   ],
   "source": [
    "import matplotlib.pyplot as plt  \n",
    "  \n",
    "# Provided data  \n",
    "steps = [10, 20, 30, 40, 50, 60, 70, 80, 90]  \n",
    "training_loss = [0.161200, 0.138700, 0.115200, 0.098400, 0.085500, 0.072700, 0.058800, 0.043100, 0.027400]  \n",
    "validation_loss = [2.301210, 2.022703, 1.763633, 1.591062, 1.466854, 1.365783, 1.272545, 1.237641, 1.246087]  \n",
    "  \n",
    "# Create the plot  \n",
    "plt.figure(figsize=(5, 3))  \n",
    "plt.plot(steps, training_loss, label='Training Loss', marker='o')  \n",
    "plt.plot(steps, validation_loss, label='Validation Loss', marker='o')  \n",
    "  \n",
    "# Add titles and labels  \n",
    "plt.title('Training Loss vs Validation Loss')  \n",
    "plt.xlabel('Step')  \n",
    "plt.ylabel('Loss')  \n",
    "plt.legend()  \n",
    "  \n",
    "# Show grid  \n",
    "plt.grid(True)  \n",
    "  \n",
    "# Display the plot  \n",
    "plt.show()"
   ]
  },
  {
   "cell_type": "code",
   "execution_count": null,
   "id": "6b07f1b8-b85a-4837-a191-90b5c8ce7f0e",
   "metadata": {},
   "outputs": [],
   "source": []
  }
 ],
 "metadata": {
  "kernelspec": {
   "display_name": "Python 3 (ipykernel)",
   "language": "python",
   "name": "python3"
  },
  "language_info": {
   "codemirror_mode": {
    "name": "ipython",
    "version": 3
   },
   "file_extension": ".py",
   "mimetype": "text/x-python",
   "name": "python",
   "nbconvert_exporter": "python",
   "pygments_lexer": "ipython3",
   "version": "3.11.0rc1"
  }
 },
 "nbformat": 4,
 "nbformat_minor": 5
}
